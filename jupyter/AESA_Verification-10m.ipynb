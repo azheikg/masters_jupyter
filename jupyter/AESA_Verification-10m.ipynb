{
 "cells": [
  {
   "cell_type": "code",
   "execution_count": null,
   "metadata": {},
   "outputs": [],
   "source": [
    "%reset -f"
   ]
  },
  {
   "cell_type": "code",
   "execution_count": null,
   "metadata": {
    "code_folding": [
     0
    ]
   },
   "outputs": [],
   "source": [
    "def is_main_module():\n",
    "    \"\"\"\n",
    "    Returns whether this notebook is the main module\n",
    "    i.e. not being run from anotherr notebook\n",
    "    \"\"\"\n",
    "    return __name__ == '__main__' and '__file__' not in globals()\n",
    "\n",
    "SAVE_FIGURES = False\n",
    "SAVE_FIGURE_DPI = 300\n",
    "DEBUG_PRINT_PLOTS = True\n",
    "SAVE_FIGURE_FORMAT = \"PDF\"  # PDF, SVG, PNG, for saved images"
   ]
  },
  {
   "cell_type": "code",
   "execution_count": null,
   "metadata": {},
   "outputs": [],
   "source": [
    "%matplotlib inline\n",
    "%config Inlinebackend.figure_format = 'svg'"
   ]
  },
  {
   "cell_type": "code",
   "execution_count": null,
   "metadata": {
    "code_folding": [
     0
    ]
   },
   "outputs": [],
   "source": [
    "#import libraries\n",
    "import sys\n",
    "# add the path to the Python module directory\n",
    "sys.path.insert(0, '../Python')\n",
    "\n",
    "import matplotlib.pyplot as plt\n",
    "import numpy as np\n",
    "import math\n",
    "import pandas as pd\n",
    "pd.set_option(\"display.precision\", 4)\n",
    "\n",
    "import Constants\n",
    "import Utils\n",
    "\n",
    "import SphericalEarthModel as SEM\n",
    "import Prf as PRF\n",
    "import Nesz as NESZ\n",
    "import Aasr as AASR\n",
    "import Rasr as RASR\n",
    "\n",
    "import planararrayantenna as PAA\n",
    "\n",
    "def green(val):\n",
    "    color = 'lightgreen'\n",
    "    return 'background-color: %s' % color\n",
    "\n",
    "def yellow(val):\n",
    "    color = 'yellow'\n",
    "    return 'background-color: %s' % color\n",
    "\n",
    "def red(val):\n",
    "    color = 'red'\n",
    "    return 'background-color: %s' % color\n",
    "\n",
    "def blue(val):\n",
    "    color = 'lightblue'\n",
    "    return 'background-color: %s' % color"
   ]
  },
  {
   "cell_type": "markdown",
   "metadata": {},
   "source": [
    "# AESA Beamforming Verification"
   ]
  },
  {
   "cell_type": "markdown",
   "metadata": {
    "collapsed": true
   },
   "source": [
    "## 10m C-band Planar Array Stripmap Single-Pol Mode (Case 1)\n",
    "\n",
    "Antenna 10 m in length for both TX and RX. The elevation dimension set to illuminate the entire swath. \n",
    "\n",
    "Total swath covered: 120 km\n",
    "\n",
    "Incidence Angle coverage: 32.07 - 40.6 degrees\n",
    "\n",
    "Look Angle coverage: 28.8 - 36.1 degrees\n",
    "\n",
    "Nominal range resolution: 6 m\n",
    "\n",
    "Nominal azimuth resolution: 6 m\n",
    "\n",
    "Antenna mounting angle (antenna normal to the nadir direction): 32.45 degrees\n",
    "\n",
    "NESZ: -25 dB\n",
    "\n",
    "Making use of DBF to do SCORE. \n",
    "\n",
    "The receiving beam is scanned across the entire swath (SCORE)."
   ]
  },
  {
   "cell_type": "markdown",
   "metadata": {},
   "source": [
    "### System Parameters"
   ]
  },
  {
   "cell_type": "code",
   "execution_count": null,
   "metadata": {
    "code_folding": [
     0
    ]
   },
   "outputs": [],
   "source": [
    "# system parameters\n",
    "Frequency       = 5.4e9\n",
    "Wavelength      = Constants.SPEED_OF_LIGHT / Frequency\n",
    "Altitude        = 650e3\n",
    "Prf             = 1610\n",
    "TxDutyCycle     = 0.08\n",
    "PulseLen        = (1/Prf) * TxDutyCycle\n",
    "TxPowerAvg      = 300       # Average transmitted power\n",
    "TxPowerPeak     = TxPowerAvg / TxDutyCycle\n",
    "AntennaOffset   = 32.45     # Antenna Mounting angle/Mid-Look angle in degrees\n",
    "NoiseFigure     = 3.6       # TRM Noise figure in dB\n",
    "Losses          = 3         # System losses: Processing atmosphere, taper, degradation, etc. in dB\n",
    "ProcessedAzimuthBandwidth = 1150  # Doppler bandwidth in Hz\n",
    "\n",
    "# antenna parameters\n",
    "AntLength       = 10.\n",
    "TxElBW          = Utils.deg2rad(7.3)\n",
    "RxAntHeight     = 2.\n",
    "RxNumElElements = 20\n",
    "Efficiency      = 0.89\n",
    "    \n",
    "# System requirements\n",
    "ReqNesz         = -25       # Required NESZ in dB\n",
    "ReqRasr         = -20       # Required RASR in dB\n",
    "ReqAasr         = -20       # Required AASR in dB\n",
    "ReqResolutionAz = 6         # Required Azimuth resolution in meters   (cross-range) \n",
    "ReqResolutionRg = 6         # Required Elevation resolution in meters (ground range)\n",
    "ReqGroundSwath  = 125e3      # Required Ground swath width in meters\n",
    "\n",
    "# Derived parameters\n",
    "TxAntHeight            = Efficiency * Wavelength / TxElBW\n",
    "MidSwathIncidenceAngle = SEM.IncidenceAngle(Altitude, Utils.deg2rad(AntennaOffset))\n",
    "ChirpBandwidth         = Constants.SPEED_OF_LIGHT / (2*ReqResolutionRg*np.sin(MidSwathIncidenceAngle))    \n",
    "TxPowerAvg             = TxPowerPeak * TxDutyCycle\n",
    "CompressionGain        = (PulseLen * ChirpBandwidth)"
   ]
  },
  {
   "cell_type": "markdown",
   "metadata": {},
   "source": [
    "### Geometry"
   ]
  },
  {
   "cell_type": "code",
   "execution_count": null,
   "metadata": {
    "code_folding": [
     0
    ]
   },
   "outputs": [],
   "source": [
    "# geometry code\n",
    "LookAngleRange = np.arange(28.8, 36.2, 0.1)\n",
    "LookAngleRangeRad = LookAngleRange * (np.pi/180)\n",
    "print(\"Look angle ranges:      {:.2f} - {:.2f} deg\".format(LookAngleRange.min(), LookAngleRange.max()))\n",
    "\n",
    "IncidenceAngleRangeRad = SEM.IncidenceAngle(Altitude, LookAngleRangeRad)\n",
    "IncidenceAngleRange = IncidenceAngleRangeRad * (180/np.pi)\n",
    "print(\"Incidence angle ranges: {:.2f} - {:.2f} deg\".format(IncidenceAngleRange.min(), IncidenceAngleRange.max()))"
   ]
  },
  {
   "cell_type": "markdown",
   "metadata": {},
   "source": [
    "#### Ground swath vs Elevation Beamwidth"
   ]
  },
  {
   "cell_type": "code",
   "execution_count": null,
   "metadata": {
    "code_folding": [
     0
    ]
   },
   "outputs": [],
   "source": [
    "if is_main_module():\n",
    "    # Get the ground swath width for the different look angles and TX elevation beamwidths\n",
    "    Test_el_bw_range = np.arange(1, 61, 1)          # beamwidth ranges between 1 and 60 degrees\n",
    "    Test_look_angles = np.arange(20, 40, 5)         # elevation look angle ranges between 20 and 35 degrees\n",
    "    Test_look_angles = np.append(Test_look_angles, AntennaOffset)\n",
    "    Test_altitudes   = np.asarray([Altitude])          # test altitudes. Min, mid and Max altitudes\n",
    "\n",
    "    Test_altitude_swaths = []\n",
    "    for alt in Test_altitudes:\n",
    "        # for every altitude calculate the different swath over the look angle ranges, for the different beam widths\n",
    "        Test_ground_swaths = [] \n",
    "        for la in Test_look_angles:\n",
    "            _, _ground_swath = SEM.SwathGroundSwathFromBeamwidth(alt, Utils.deg2rad(la), Utils.deg2rad(Test_el_bw_range))\n",
    "            Test_ground_swaths.append(_ground_swath)\n",
    "        Test_altitude_swaths.append(Test_ground_swaths)\n",
    "    Test_altitude_swaths = np.asarray(Test_altitude_swaths)\n",
    "\n",
    "    # Plot the ground swath widths vs beamwidths & look angles\n",
    "    fig, ax1 = plt.subplots(1,1,figsize = (12,6))\n",
    "    for i in range(Test_altitude_swaths.shape[0]):\n",
    "        for j in range(Test_altitude_swaths[i].shape[0]):\n",
    "            ax1.plot(Test_el_bw_range, Test_altitude_swaths[i][j,:] / 1000, label=r\"Look Angle = %.2f deg\" % (Test_look_angles[j]))\n",
    "            \n",
    "    ax1.legend(loc=2)\n",
    "    ax1.set_xlabel(r\"Elevation Beamwidth (deg)\")\n",
    "    ax1.set_ylabel(r\"Ground swath Width (km)\")\n",
    "    ax1.grid(linestyle='dotted')\n",
    "    ax1.set_ylim(0, 200)\n",
    "    ax1.set_xlim(1,9)\n",
    "    ax1.axvline(x=Utils.rad2deg(TxElBW), linestyle=\"dotted\")\n",
    "    ax1.axhline(y=ReqGroundSwath/1000, linestyle=\"dotted\")\n",
    "    plt.tight_layout()\n",
    "    \n",
    "    ReqTxBeamwidth_nom = Utils.rad2deg(TxElBW)\n",
    "    sw, gw =  SEM.SwathGroundSwathFromBeamwidth(Test_altitudes, \n",
    "                                            Utils.deg2rad(AntennaOffset), \n",
    "                                            Utils.deg2rad(ReqTxBeamwidth_nom))\n",
    "    print(\"Ground swath approximation\")\n",
    "    print(\"Swath = {:.2f} km and Ground swath = {:.2f} km @ Look angle = {} deg and Elevation BW = {:.2f} deg\".format(sw[0]/1000, gw[0]/1000, AntennaOffset, ReqTxBeamwidth_nom))"
   ]
  },
  {
   "cell_type": "markdown",
   "metadata": {},
   "source": [
    "#### Ground swath and incidence angle estimation"
   ]
  },
  {
   "cell_type": "code",
   "execution_count": null,
   "metadata": {
    "code_folding": [
     0
    ]
   },
   "outputs": [],
   "source": [
    "# ground swath estimation\n",
    "laMin = AntennaOffset - (ReqTxBeamwidth_nom / 2)\n",
    "laMax = AntennaOffset + (ReqTxBeamwidth_nom / 2)\n",
    "    \n",
    "lowLa = np.deg2rad(laMin)\n",
    "highLa = np.deg2rad(laMax)\n",
    "\n",
    "lowIa = SEM.IncidenceAngle(Altitude, lowLa)\n",
    "highIa = SEM.IncidenceAngle(Altitude, highLa)\n",
    "\n",
    "lowSR = SEM.SlantRange(Altitude, lowIa, lowLa)\n",
    "highSR = SEM.SlantRange(Altitude, highIa, highLa)\n",
    "print(\"Swath: {:.3f} km\".format((highSR- lowSR)/1000))\n",
    "\n",
    "lowGR = SEM.IncidenceAngleToGroundRange(Altitude, lowIa)\n",
    "highGR = SEM.IncidenceAngleToGroundRange(Altitude, highIa)\n",
    "swath = highGR - lowGR\n",
    "print(\"Ground Swath: {:.3f} km\".format(swath/1000))"
   ]
  },
  {
   "cell_type": "markdown",
   "metadata": {},
   "source": [
    "### PRF Analysis"
   ]
  },
  {
   "cell_type": "code",
   "execution_count": null,
   "metadata": {},
   "outputs": [],
   "source": [
    "antLength = AntLength"
   ]
  },
  {
   "cell_type": "markdown",
   "metadata": {},
   "source": [
    "#### PRF vs Altitude"
   ]
  },
  {
   "cell_type": "code",
   "execution_count": null,
   "metadata": {
    "code_folding": [
     0
    ]
   },
   "outputs": [],
   "source": [
    "if is_main_module():\n",
    "    # define the number of PRF pulse and Nadir echoes to work with\n",
    "    numPrfPulses = 30\n",
    "    numNadirEchoes = 11\n",
    "    \n",
    "    # define the swath width (in meters) ranges to use \n",
    "    altitudes = np.arange(450e3, 805e3, 5e3)\n",
    "    \n",
    "    # get the minimum PRF\n",
    "    prfMin = PRF.PrfMin(antLength, altitudes)\n",
    "    \n",
    "    # get the nadir delay\n",
    "    nadirDelay = PRF.NadirDelay(altitudes)\n",
    "    \n",
    "    # get the mid-swath look angle\n",
    "    lookAngle = SEM.LookAngle(altitudes, MidSwathIncidenceAngle)\n",
    "    \n",
    "    # calculate the near/far swath slant ranges\n",
    "    nearSR, farSR = SEM.NearAndFarSlantRanges(ReqGroundSwath,\n",
    "                                             altitudes, \n",
    "                                             MidSwathIncidenceAngle,\n",
    "                                             lookAngle)\n",
    "    \n",
    "    # calculate the near/far range round trip delays\n",
    "    nearDelay = SEM.RoundTripTime(nearSR)\n",
    "    farDelay  = SEM.RoundTripTime(farSR)\n",
    "    \n",
    "    # get the PRF blind ranges\n",
    "    prfBlindL, prfBlindU = PRF.PrfBlindRanges(numPrfPulses,\n",
    "                                             nearDelay,\n",
    "                                             farDelay,\n",
    "                                             PulseLen)\n",
    "    \n",
    "    # get the nadir echo ranges\n",
    "    nearNE, farNE = PRF.NadirEchoRanges(numNadirEchoes,\n",
    "                                       nearDelay,\n",
    "                                       farDelay,\n",
    "                                       PulseLen,\n",
    "                                       nadirDelay)\n",
    "       \n",
    "    # get the maximum PRF\n",
    "    prfMax = PRF.PrfMax(PulseLen, (farDelay - nearDelay))\n",
    "    \n",
    "    # display/plot the results\n",
    "    \n",
    "    # plot PRF vs antenna length\n",
    "    fig, ax1 = plt.subplots(1,1, figsize = (6,4))    \n",
    "    # plot the Nadir limits\n",
    "    for nadirLower, nadirUpper in zip(nearNE[1:], farNE):\n",
    "        ax1.plot(altitudes/1000, nadirLower, color=\"red\", alpha=0.6)\n",
    "        ax1.plot(altitudes/1000, nadirUpper, color=\"red\", alpha=0.6)\n",
    "        plt.fill_between(altitudes/1000, nadirLower, nadirUpper, facecolor='yellow', alpha=0.2)    \n",
    "    # plot the PRF limits\n",
    "    for prfLower, prfUpper in zip(prfBlindL[1:], prfBlindU):\n",
    "        ax1.plot(altitudes/1000, prfLower, color=\"black\", alpha=0.6)\n",
    "        ax1.plot(altitudes/1000, prfUpper, color=\"black\", alpha=0.6)\n",
    "        plt.fill_between(altitudes/1000, prfLower, prfUpper, facecolor='blue', alpha=0.2)    \n",
    "    # plot PRF min\n",
    "    ax1.plot(altitudes/1000, prfMin, color='tab:green', linestyle='dashed')    \n",
    "    # plot PRFM Maximum\n",
    "    ax1.plot(altitudes/1000, prfMax, color='tab:orange', linestyle='dashed') \n",
    "    # plot the altitude and ideal PRF\n",
    "    ax1.axhline(y=Prf, color=\"black\", linestyle=\"dashed\")\n",
    "    ax1.axvline(x=Altitude/1000, color=\"black\", linestyle=\"dashed\")\n",
    "    \n",
    "    #ax1.set_title('PRF vs Altitude')\n",
    "    ax1.set_xlabel(r'Altitude (km)')\n",
    "    ax1.set_ylabel(r'PRF (Hz)')    \n",
    "    ax1.set_ylim(1400, 1800)\n",
    "    plt.grid(linestyle='dotted')\n",
    "    plt.tight_layout()\n",
    "    ax1.margins(0)\n",
    "\n",
    "    if SAVE_FIGURES:\n",
    "        if SAVE_FIGURE_FORMAT == \"SVG\":\n",
    "            plt.savefig('../figures/fig_05a_aesa_verification_01_prf_vs_alt.svg', format='svg', bbox_inches='tight')  \n",
    "        elif SAVE_FIGURE_FORMAT == \"PDF\":\n",
    "            plt.savefig('../figures/fig_05a_aesa_verification_01_prf_vs_alt.pdf', format='pdf', bbox_inches='tight')  \n",
    "        else:\n",
    "            plt.savefig('../figures/fig_05a_aesa_verification_01_prf_vs_alt.png', format='png', bbox_inches='tight', dpi=SAVE_FIGURE_DPI)  \n",
    "    else:\n",
    "        plt.show()"
   ]
  },
  {
   "cell_type": "markdown",
   "metadata": {},
   "source": [
    "#### PRF vs Antenna Length"
   ]
  },
  {
   "cell_type": "code",
   "execution_count": null,
   "metadata": {
    "code_folding": [
     0
    ]
   },
   "outputs": [],
   "source": [
    "# define the number of PRF pulse and Nadir echoes to work with\n",
    "    numPrfPulses   = 32\n",
    "    numNadirEchoes = 12\n",
    "    \n",
    "    # define the antenna length range to cover\n",
    "    antennaLength = np.arange(6, 16.1, 0.1)\n",
    "    \n",
    "    # get the minimum PRF\n",
    "    prfMin = []\n",
    "    for ant in (antennaLength):\n",
    "        prfMin.append(PRF.PrfMin(ant, Altitude))\n",
    "    prfMin = np.asarray(prfMin)\n",
    "    \n",
    "    # get the nadir delay\n",
    "    nadirDelay = PRF.NadirDelay(Altitude)\n",
    "    \n",
    "    # get the mid-swath look angle\n",
    "    lookAngle = SEM.LookAngle(Altitude, MidSwathIncidenceAngle)\n",
    "    \n",
    "    # calculate the near/far swath slant ranges\n",
    "    nearSR, farSR = SEM.NearAndFarSlantRanges(ReqGroundSwath,\n",
    "                                             Altitude, \n",
    "                                             MidSwathIncidenceAngle,\n",
    "                                             lookAngle)\n",
    "    \n",
    "    # calculate the near/far range round trip delays\n",
    "    nearDelay = SEM.RoundTripTime(nearSR)\n",
    "    farDelay  = SEM.RoundTripTime(farSR)\n",
    "    \n",
    "    # get the PRF blind ranges\n",
    "    prfBlindL, prfBlindU = PRF.PrfBlindRanges(numPrfPulses,\n",
    "                                             nearDelay,\n",
    "                                             farDelay,\n",
    "                                             PulseLen)\n",
    "    \n",
    "    # get the nadir echo ranges\n",
    "    nearNE, farNE = PRF.NadirEchoRanges(numNadirEchoes,\n",
    "                                       nearDelay,\n",
    "                                       farDelay,\n",
    "                                       PulseLen,\n",
    "                                       nadirDelay)\n",
    "       \n",
    "    # get the maximum PRF\n",
    "    prfMax = PRF.PrfMax(PulseLen, (farDelay - nearDelay))\n",
    "    \n",
    "    # display/plot the results\n",
    "    print(\"Nadir delay:            {:.6f} s\".format(nadirDelay))\n",
    "    print(\"Near range Delay (tn):  {:.6f} s\".format(nearDelay))\n",
    "    print(\"Far range Delay (tf):   {:.6f} s\".format(farDelay))\n",
    "    print(\"tf - tn:                {:.6f} s\".format(farDelay - nearDelay))\n",
    "    print(\"PRF max:                {:.6f} Hz\".format(prfMax))  \n",
    "    print(\"PRF min ({:.2}m antenna): {:.6f} Hz\".format(antLength, PRF.PrfMin(antLength, Altitude)))  \n",
    "    \n",
    "    # plot PRF vs antenna length\n",
    "    fig, ax1 = plt.subplots(1,1, figsize = (6,4))    \n",
    "    # plot the Nadi limits\n",
    "    for nadirLower, nadirUpper in zip(nearNE[1:], farNE):\n",
    "        ax1.axhline(y=nadirLower, color=\"red\", alpha=0.6)\n",
    "        ax1.axhline(y=nadirUpper, color=\"red\", alpha=0.6)\n",
    "        plt.fill_between(antennaLength, nadirLower, nadirUpper, facecolor='yellow', alpha=0.2)    \n",
    "    # plot the PRF limits\n",
    "    for prfLower, prfUpper in zip(prfBlindL[1:], prfBlindU):\n",
    "        ax1.axhline(y=prfLower, color=\"black\", alpha=0.6)\n",
    "        ax1.axhline(y=prfUpper, color=\"black\", alpha=0.6)\n",
    "        plt.fill_between(antennaLength, prfLower, prfUpper, facecolor='blue', alpha=0.2)    \n",
    "    # plot PRF min\n",
    "    ax1.plot(antennaLength, prfMin, color='tab:green', linestyle='dashed')    \n",
    "    # plot PRFM Maximum\n",
    "    ax1.axhline(y=prfMax, color='tab:orange', linestyle='dashed') \n",
    "    # plot antenna length and ideal PRF\n",
    "    ax1.axhline(y=Prf, color=\"black\", linestyle='dashed') \n",
    "    ax1.axvline(x=antLength, color='black', linestyle='dashed') \n",
    "    \n",
    "    \n",
    "    #ax1.set_title('PRF vs Antenna length')\n",
    "    ax1.set_xlabel(r'Antenna length (m)')\n",
    "    ax1.set_ylabel(r'PRF (Hz)')    \n",
    "    ax1.set_ylim(1400, 1800)\n",
    "    plt.grid(linestyle='dotted')\n",
    "    ax1.margins(0)\n",
    "    plt.tight_layout()\n",
    "    \n",
    "    if SAVE_FIGURES:\n",
    "        if SAVE_FIGURE_FORMAT == \"SVG\":\n",
    "            plt.savefig('../figures/fig_05b_aesa_verification_01_prf_vs_ant.svg', format='svg', bbox_inches='tight')  \n",
    "        elif SAVE_FIGURE_FORMAT == \"PDF\":\n",
    "            plt.savefig('../figures/fig_05b_aesa_verification_01_prf_vs_ant.pdf', format='pdf', bbox_inches='tight')  \n",
    "        else:\n",
    "            plt.savefig('../figures/fig_05b_aesa_verification_01_prf_vs_ant.png', format='png', bbox_inches='tight', dpi=SAVE_FIGURE_DPI)  \n",
    "    else:\n",
    "        plt.show()"
   ]
  },
  {
   "cell_type": "markdown",
   "metadata": {},
   "source": [
    "#### PRF vs Pulse Length"
   ]
  },
  {
   "cell_type": "code",
   "execution_count": null,
   "metadata": {
    "code_folding": [
     0
    ]
   },
   "outputs": [],
   "source": [
    "if is_main_module():\n",
    "    # define the number of PRF pulse and Nadir echoes to work with\n",
    "    numPrfPulses = 30\n",
    "    numNadirEchoes = 11\n",
    "    \n",
    "    # define the pulse length range to cover\n",
    "    pulseLengths = np.arange(0, 101e-6, 1e-6)\n",
    "    \n",
    "    # get the minimum PRF\n",
    "    prfMin = PRF.PrfMin(antLength, Altitude)\n",
    "    \n",
    "    # get the nadir delay\n",
    "    nadirDelay = PRF.NadirDelay(Altitude)\n",
    "    \n",
    "    # get the mid-swath look angle\n",
    "    lookAngle = SEM.LookAngle(Altitude, MidSwathIncidenceAngle)\n",
    "    \n",
    "    # calculate the near/far swath slant ranges\n",
    "    nearSR, farSR = SEM.NearAndFarSlantRanges(ReqGroundSwath,\n",
    "                                             Altitude, \n",
    "                                             MidSwathIncidenceAngle,\n",
    "                                             lookAngle)\n",
    "    \n",
    "    # calculate the near/far range round trip delays\n",
    "    nearDelay = SEM.RoundTripTime(nearSR)\n",
    "    farDelay  = SEM.RoundTripTime(farSR)\n",
    "    \n",
    "    # get the PRF blind ranges\n",
    "    prfBlindL, prfBlindU = PRF.PrfBlindRanges(numPrfPulses,\n",
    "                                             nearDelay,\n",
    "                                             farDelay,\n",
    "                                             pulseLengths)\n",
    "    \n",
    "    # get the nadir echo ranges\n",
    "    nearNE, farNE = PRF.NadirEchoRanges(numNadirEchoes,\n",
    "                                       nearDelay,\n",
    "                                       farDelay,\n",
    "                                       pulseLengths,\n",
    "                                       nadirDelay)\n",
    "       \n",
    "    # get the maximum PRF\n",
    "    prfMax = PRF.PrfMax(pulseLengths, (farDelay - nearDelay))\n",
    "    \n",
    "    # display/plot the results\n",
    "    print(\"Near range delay: {:.6f} s\".format(nearDelay))\n",
    "    print(\"Far range delay:  {:.6f} s\".format(farDelay))\n",
    "    print(\"Nadir delay:      {:.6f} s\".format(nadirDelay))\n",
    "    print(\"Minimum PRF:      {:.2f} Hz\".format(prfMin))\n",
    "    \n",
    "    # plot PRF vs pulse length\n",
    "    fig, ax1 = plt.subplots(1,1, figsize = (6,4))    \n",
    "    # plot the Nadi limits\n",
    "    for nadirLower, nadirUpper in zip(nearNE[1:], farNE):\n",
    "        ax1.plot(pulseLengths* 1e6, nadirLower, color=\"red\", alpha=0.6)\n",
    "        ax1.plot(pulseLengths* 1e6, nadirUpper, color=\"red\", alpha=0.6)\n",
    "        plt.fill_between(pulseLengths* 1e6, nadirLower, nadirUpper, facecolor='yellow', alpha=0.2)    \n",
    "    # plot the PRF limits\n",
    "    for prfLower, prfUpper in zip(prfBlindL[1:], prfBlindU):\n",
    "        ax1.plot(pulseLengths* 1e6, prfLower, color=\"black\", alpha=0.6)\n",
    "        ax1.plot(pulseLengths* 1e6, prfUpper, color=\"black\", alpha=0.6)\n",
    "        plt.fill_between(pulseLengths* 1e6, prfLower, prfUpper, facecolor='blue', alpha=0.2)    \n",
    "    # plot PRF min\n",
    "    ax1.axhline(y=prfMin, color='tab:green', linestyle='dashed')    \n",
    "    # plot PRFM Maximum\n",
    "    ax1.plot(pulseLengths* 1e6, prfMax, color='tab:orange', linestyle='dashed')  \n",
    "    # plot pulse length and ideal PRF\n",
    "    ax1.axvline(x=PulseLen*1e6, color='black', linestyle='dashed')  \n",
    "    ax1.axhline(y=Prf, color='black', linestyle='dashed')  \n",
    "    \n",
    "    #ax1.set_title('PRF vs Pulse Lengh')\n",
    "    ax1.set_xlabel(r'Pulse Lengh, $\\tau_p$ ($\\mu$s)')\n",
    "    ax1.set_ylabel(r'PRF (Hz)')    \n",
    "    ax1.set_ylim(1400, 1800)\n",
    "    plt.grid(linestyle='dotted')\n",
    "    plt.tight_layout()\n",
    "    ax1.margins(0)\n",
    "\n",
    "    if SAVE_FIGURES:\n",
    "        if SAVE_FIGURE_FORMAT == \"SVG\":\n",
    "            plt.savefig('../figures/fig_05c_aesa_verification_01_prf_vs_pul.svg', format='svg', bbox_inches='tight')  \n",
    "        elif SAVE_FIGURE_FORMAT == \"PDF\":\n",
    "            plt.savefig('../figures/fig_05c_aesa_verification_01_prf_vs_pul.pdf', format='pdf', bbox_inches='tight')  \n",
    "        else:\n",
    "            plt.savefig('../figures/fig_05c_aesa_verification_01_prf_vs_pul.png', format='png', bbox_inches='tight', dpi=SAVE_FIGURE_DPI)  \n",
    "    else:\n",
    "        plt.show()"
   ]
  },
  {
   "cell_type": "markdown",
   "metadata": {},
   "source": [
    "#### PRF vs Swath Width"
   ]
  },
  {
   "cell_type": "code",
   "execution_count": null,
   "metadata": {
    "code_folding": [
     0
    ],
    "scrolled": true
   },
   "outputs": [],
   "source": [
    "if is_main_module():\n",
    "    # define the number of PRF pulse and Nadir echoes to work with\n",
    "    numPrfPulses = 30\n",
    "    numNadirEchoes = 11\n",
    "    \n",
    "    # define the swath width (in meters) ranges to use \n",
    "    groundSwaths = np.arange(5e3, 201e3, 1e3)\n",
    "    \n",
    "    # get the minimum PRF\n",
    "    prfMin = PRF.PrfMin(antLength, Altitude)\n",
    "    \n",
    "    # get the nadir delay\n",
    "    nadirDelay = PRF.NadirDelay(Altitude)\n",
    "    \n",
    "    # get the mid-swath look angle\n",
    "    lookAngle = Utils.deg2rad(AntennaOffset)\n",
    "    \n",
    "    # calculate the near/far swath slant ranges\n",
    "    nearSR, farSR = SEM.NearAndFarSlantRanges(groundSwaths,\n",
    "                                             Altitude, \n",
    "                                             MidSwathIncidenceAngle,\n",
    "                                             lookAngle)\n",
    "    \n",
    "    # calculate the near/far range round trip delays\n",
    "    nearDelay = SEM.RoundTripTime(nearSR)\n",
    "    farDelay  = SEM.RoundTripTime(farSR)\n",
    "    \n",
    "    # get the PRF blind ranges\n",
    "    prfBlindL, prfBlindU = PRF.PrfBlindRanges(numPrfPulses,\n",
    "                                             nearDelay,\n",
    "                                             farDelay,\n",
    "                                             PulseLen)\n",
    "    \n",
    "    # get the nadir echo ranges\n",
    "    nearNE, farNE = PRF.NadirEchoRanges(numNadirEchoes,\n",
    "                                       nearDelay,\n",
    "                                       farDelay,\n",
    "                                       PulseLen,\n",
    "                                       nadirDelay)\n",
    "       \n",
    "    # get the maximum PRF\n",
    "    prfMax = PRF.PrfMax(PulseLen, (farDelay - nearDelay))\n",
    "    \n",
    "    # display/plot the results\n",
    "    print(\"Nadir delay: {:.6f} s\".format(nadirDelay))\n",
    "    print(\"Minimum PRF: {:.2f} Hz\".format(prfMin))\n",
    "    \n",
    "    # plot PRF vs antenna length\n",
    "    fig, ax1 = plt.subplots(1,1, figsize = (6,4))    \n",
    "    # plot the Nadi limits\n",
    "    for nadirLower, nadirUpper in zip(nearNE[1:], farNE):\n",
    "        ax1.plot(groundSwaths/1000, nadirLower, color=\"red\", alpha=0.6)\n",
    "        ax1.plot(groundSwaths/1000, nadirUpper, color=\"red\", alpha=0.6)\n",
    "        plt.fill_between(groundSwaths/1000, nadirLower, nadirUpper, facecolor='yellow', alpha=0.2)    \n",
    "    # plot the PRF limits\n",
    "    for prfLower, prfUpper in zip(prfBlindL[1:], prfBlindU):\n",
    "        ax1.plot(groundSwaths/1000, prfLower, color=\"black\", alpha=0.6)\n",
    "        ax1.plot(groundSwaths/1000, prfUpper, color=\"black\", alpha=0.6)\n",
    "        plt.fill_between(groundSwaths/1000, prfLower, prfUpper, facecolor='blue', alpha=0.2)    \n",
    "    # plot PRF min\n",
    "    ax1.axhline(y=prfMin, color='tab:green', linestyle='dashed')    \n",
    "    # plot PRFM Maximum\n",
    "    ax1.plot(groundSwaths/1000, prfMax, color='tab:orange', linestyle='dashed')     \n",
    "    \n",
    "    # plot ideal ground swath and prf\n",
    "    ax1.axhline(y=Prf, color=\"black\", linestyle=\"dashed\")\n",
    "    ax1.axvline(x=ReqGroundSwath/1000, color=\"black\", linestyle=\"dashed\")\n",
    "    \n",
    "    #ax1.set_title('PRF vs Ground Swath')\n",
    "    ax1.set_xlabel(r'Ground swath, $W_{rg}$ (km)')\n",
    "    ax1.set_ylabel(r'PRF (Hz)')    \n",
    "    ax1.set_ylim(1400, 1800)\n",
    "    plt.grid(linestyle='dotted')\n",
    "    plt.tight_layout()\n",
    "    ax1.margins(0)\n",
    "    \n",
    "    if SAVE_FIGURES:\n",
    "        if SAVE_FIGURE_FORMAT == \"SVG\":\n",
    "            plt.savefig('../figures/fig_05d_aesa_verification_01_prf_vs_swa.svg', format='svg', bbox_inches='tight')  \n",
    "        elif SAVE_FIGURE_FORMAT == \"PDF\":\n",
    "            plt.savefig('../figures/fig_05d_aesa_verification_01_prf_vs_swa.pdf', format='pdf', bbox_inches='tight')  \n",
    "        else:\n",
    "            plt.savefig('../figures/fig_05d_aesa_verification_01_prf_vs_swa.png', format='png', bbox_inches='tight', dpi=SAVE_FIGURE_DPI)  \n",
    "    else:\n",
    "        plt.show()"
   ]
  },
  {
   "cell_type": "markdown",
   "metadata": {},
   "source": [
    "#### PRF vs Incidence Angle"
   ]
  },
  {
   "cell_type": "code",
   "execution_count": null,
   "metadata": {
    "code_folding": [
     0
    ]
   },
   "outputs": [],
   "source": [
    "if is_main_module():\n",
    "    # define the number of PRF pulse and Nadir echoes to work with\n",
    "    numPrfPulses = 41\n",
    "    numNadirEchoes = 25\n",
    "    \n",
    "    # define the incidence angle (in degreees) ranges to use \n",
    "    incidenceAngles = Utils.deg2rad(np.arange(35, 38, 1))\n",
    "\n",
    "    # get the minimum PRF\n",
    "    prfMin = PRF.PrfMin(antLength, Altitude)\n",
    "    \n",
    "    # get the nadir delay\n",
    "    nadirDelay = PRF.NadirDelay(Altitude)\n",
    "    \n",
    "    # get the mid-swath look angle\n",
    "    lookAngle = SEM.LookAngle(Altitude, incidenceAngles)\n",
    "    \n",
    "    # calculate the near/far swath slant ranges\n",
    "    nearSR, farSR = SEM.NearAndFarSlantRanges(ReqGroundSwath,\n",
    "                                             Altitude, \n",
    "                                             incidenceAngles,\n",
    "                                             lookAngle)\n",
    "    \n",
    "    # calculate the near/far range round trip delays\n",
    "    nearDelay = SEM.RoundTripTime(nearSR)\n",
    "    farDelay  = SEM.RoundTripTime(farSR)\n",
    "    \n",
    "    # get the PRF blind ranges\n",
    "    prfBlindL, prfBlindU = PRF.PrfBlindRanges(numPrfPulses,\n",
    "                                             nearDelay,\n",
    "                                             farDelay,\n",
    "                                             PulseLen)\n",
    "    \n",
    "    # get the nadir echo ranges\n",
    "    nearNE, farNE = PRF.NadirEchoRanges(numNadirEchoes,\n",
    "                                       nearDelay,\n",
    "                                       farDelay,\n",
    "                                       PulseLen,\n",
    "                                       nadirDelay)\n",
    "       \n",
    "    # get the maximum PRF\n",
    "    prfMax = PRF.PrfMax(PulseLen, (farDelay - nearDelay))\n",
    "    \n",
    "    # display/plot the results\n",
    "    print(\"Nadir delay: {:.6f} s\".format(nadirDelay))\n",
    "    print(\"Minimum PRF: {:.2f} Hz\".format(prfMin))\n",
    "    \n",
    "    # plot PRF vs antenna length\n",
    "    fig, ax1 = plt.subplots(1,1, figsize = (6,4))    \n",
    "    \n",
    "    # plot the PRF limits\n",
    "    for prfLower, prfUpper in zip(prfBlindL[1:], prfBlindU):\n",
    "        ax1.plot(Utils.rad2deg(incidenceAngles), prfLower, color=\"black\", alpha=0.6)\n",
    "        ax1.plot(Utils.rad2deg(incidenceAngles), prfUpper, color=\"black\", alpha=0.6)\n",
    "        plt.fill_between(Utils.rad2deg(incidenceAngles), prfLower, prfUpper, facecolor='blue', alpha=0.2)    \n",
    "    # plot the Nadi limits\n",
    "    for nadirLower, nadirUpper in zip(nearNE[1:], farNE):\n",
    "        ax1.plot(Utils.rad2deg(incidenceAngles), nadirLower, color=\"red\", alpha=0.6)\n",
    "        ax1.plot(Utils.rad2deg(incidenceAngles), nadirUpper, color=\"red\", alpha=0.6)\n",
    "        plt.fill_between(Utils.rad2deg(incidenceAngles), nadirLower, nadirUpper, facecolor='yellow', alpha=0.2)    \n",
    "    # plot PRF min\n",
    "    ax1.axhline(y=prfMin, color='tab:green', linestyle='dashed')    \n",
    "    # plot PRFM Maximum\n",
    "    ax1.plot(Utils.rad2deg(incidenceAngles), prfMax, color='tab:orange', linestyle='dashed')     \n",
    "    # plot the incidence angle and ideal PRF\n",
    "    ax1.axvline(x=Utils.rad2deg(MidSwathIncidenceAngle), color=\"black\", linestyle=\"dashed\")\n",
    "    ax1.axhline(y=Prf, color=\"black\", linestyle=\"dashed\")\n",
    "    \n",
    "    #ax1.set_title('PRF vs Incidence Angle')\n",
    "    ax1.set_xlabel(r'Incidence Angle, $\\theta_{i,m}$ (deg)')\n",
    "    ax1.set_ylabel(r'PRF (Hz)')    \n",
    "    ax1.set_ylim(1400, 1800)\n",
    "    plt.grid(linestyle='dotted')\n",
    "    plt.tight_layout()\n",
    "    ax1.margins(0)\n",
    "    \n",
    "    if SAVE_FIGURES:\n",
    "        if SAVE_FIGURE_FORMAT == \"SVG\":\n",
    "            plt.savefig('../figures/fig_05e_aesa_verification_01_prf_vs_inc.svg', format='svg', bbox_inches='tight')  \n",
    "        elif SAVE_FIGURE_FORMAT == \"PDF\":\n",
    "            plt.savefig('../figures/fig_05e_aesa_verification_01_prf_vs_inc.pdf', format='pdf', bbox_inches='tight')  \n",
    "        else:\n",
    "            plt.savefig('../figures/fig_05e_aesa_verification_01_prf_vs_inc.png', format='png', bbox_inches='tight', dpi=SAVE_FIGURE_DPI)  \n",
    "    else:\n",
    "        plt.show()"
   ]
  },
  {
   "cell_type": "markdown",
   "metadata": {},
   "source": [
    "#### PRF vs Look Angle"
   ]
  },
  {
   "cell_type": "code",
   "execution_count": null,
   "metadata": {
    "code_folding": []
   },
   "outputs": [],
   "source": [
    "if is_main_module():\n",
    "    # define the number of PRF pulse and Nadir echoes to work with\n",
    "    numPrfPulses = 53\n",
    "    numNadirEchoes = 36\n",
    "    \n",
    "    # define the look angle (in degreees) ranges to use \n",
    "    lookAngles = Utils.deg2rad(np.arange(32, 33.1, 0.1))\n",
    "    \n",
    "    # calculate the incidence angles from these look angles\n",
    "    incidenceAngles = SEM.IncidenceAngle(Altitude, lookAngles)\n",
    "\n",
    "    # get the minimum PRF\n",
    "    prfMin = PRF.PrfMin(antLength, Altitude)\n",
    "    \n",
    "    # get the nadir delay\n",
    "    nadirDelay = PRF.NadirDelay(Altitude)\n",
    "    \n",
    "    # calculate the near/far swath slant ranges\n",
    "    nearSR, farSR = SEM.NearAndFarSlantRanges(ReqGroundSwath,\n",
    "                                             Altitude, \n",
    "                                             incidenceAngles,\n",
    "                                             lookAngles)\n",
    "    \n",
    "    # calculate the near/far range round trip delays\n",
    "    nearDelay = SEM.RoundTripTime(nearSR)\n",
    "    farDelay  = SEM.RoundTripTime(farSR)\n",
    "    \n",
    "    # get the PRF blind ranges\n",
    "    prfBlindL, prfBlindU = PRF.PrfBlindRanges(numPrfPulses,\n",
    "                                             nearDelay,\n",
    "                                             farDelay,\n",
    "                                             PulseLen)\n",
    "    \n",
    "    # get the nadir echo ranges\n",
    "    nearNE, farNE = PRF.NadirEchoRanges(numNadirEchoes,\n",
    "                                       nearDelay,\n",
    "                                       farDelay,\n",
    "                                       PulseLen,\n",
    "                                       nadirDelay)\n",
    "       \n",
    "    # get the maximum PRF\n",
    "    prfMax = PRF.PrfMax(PulseLen, (farDelay - nearDelay))\n",
    "    \n",
    "    # display/plot the results\n",
    "    print(\"Nadir delay: {:.2f} us\".format(nadirDelay * 1e6))\n",
    "    print(\"Minimum PRF: {:.2f} Hz\".format(prfMin))\n",
    "    \n",
    "    # plot PRF vs antenna length\n",
    "    fig, ax1 = plt.subplots(1,1, figsize = (6,4))   \n",
    "    \n",
    "    # plot the PRF limits\n",
    "    for prfLower, prfUpper in zip(prfBlindL[1:], prfBlindU):\n",
    "        ax1.plot(Utils.rad2deg(lookAngles), prfLower, color=\"black\", alpha=0.6)\n",
    "        ax1.plot(Utils.rad2deg(lookAngles), prfUpper, color=\"black\", alpha=0.6)\n",
    "        plt.fill_between(Utils.rad2deg(lookAngles), prfLower, prfUpper, facecolor='blue', alpha=0.2)    \n",
    "    # plot the Nadi limits\n",
    "    for nadirLower, nadirUpper in zip(nearNE[1:], farNE):\n",
    "        ax1.plot(Utils.rad2deg(lookAngles), nadirLower, color=\"red\", alpha=0.6)\n",
    "        ax1.plot(Utils.rad2deg(lookAngles), nadirUpper, color=\"red\", alpha=0.6)\n",
    "        plt.fill_between(Utils.rad2deg(lookAngles), nadirLower, nadirUpper, facecolor='yellow', alpha=0.2)    \n",
    "    # plot PRF min\n",
    "    ax1.axhline(y=prfMin, color='tab:green', linestyle='dashed')    \n",
    "    # plot PRF Maximum\n",
    "    ax1.plot(Utils.rad2deg(lookAngles), prfMax, color='tab:orange', linestyle='dashed')   \n",
    "    # plot antenna mounting angle and ideal prf\n",
    "    ax1.axvline(x=AntennaOffset, color=\"black\", linestyle=\"dashed\")\n",
    "    ax1.axhline(y=Prf, color=\"black\", linestyle=\"dashed\")\n",
    "    \n",
    "    #ax1.set_title('PRF vs Look Angle')\n",
    "    ax1.set_xlabel(r'Look Angle, $\\gamma_m$ (deg)')\n",
    "    ax1.set_ylabel(r'PRF (Hz)')    \n",
    "    ax1.set_ylim(1400, 1800)\n",
    "#     ax1.set_xlim(13, 46)\n",
    "    plt.grid(linestyle='dotted')\n",
    "    plt.tight_layout()\n",
    "    ax1.margins(0)\n",
    "    \n",
    "    if SAVE_FIGURES:\n",
    "        if SAVE_FIGURE_FORMAT == \"SVG\":\n",
    "            plt.savefig('../figures/fig_05f_aesa_verification_01_prf_vs_loo.svg', format='svg', bbox_inches='tight')  \n",
    "        elif SAVE_FIGURE_FORMAT == \"PDF\":\n",
    "            plt.savefig('../figures/fig_05f_aesa_verification_01_prf_vs_loo.pdf', format='pdf', bbox_inches='tight')  \n",
    "        else:\n",
    "            plt.savefig('../figures/fig_05f_aesa_verification_01_prf_vs_loo.png', format='png', bbox_inches='tight', dpi=SAVE_FIGURE_DPI)  \n",
    "    else:\n",
    "        plt.show()"
   ]
  },
  {
   "cell_type": "markdown",
   "metadata": {},
   "source": [
    "### TX Antenna"
   ]
  },
  {
   "cell_type": "code",
   "execution_count": null,
   "metadata": {
    "code_folding": [
     0
    ]
   },
   "outputs": [],
   "source": [
    "# TX Antenna code\n",
    "TX_efficiency   = Efficiency\n",
    "desiredElvElemSpacing = 0.5 * Wavelength\n",
    "desiredAzElemSpacing = desiredElvElemSpacing\n",
    "TxNumAzElements = int(math.floor(AntLength / desiredAzElemSpacing))\n",
    "\n",
    "# the antenna elevation dimension is estimated from the beamwidth required to illuminate the entire swath\n",
    "TxNumElElements = PAA.PlanarArrayAntenna.num_elements_for_beamwidth(Wavelength, TxElBW, desiredElvElemSpacing, TX_efficiency)\n",
    "\n",
    "# initialise the TX object\n",
    "aesaTxAnt = PAA.PlanarArrayAntenna(\n",
    "                num_el_elems    = TxNumElElements, \n",
    "                num_az_elems    = TxNumAzElements, \n",
    "                el_elem_spacing = desiredElvElemSpacing, \n",
    "                az_elem_spacing = desiredAzElemSpacing, \n",
    "                efficiency      = TX_efficiency)\n",
    "\n",
    "TX_swath, TX_gswath =  SEM.SwathGroundSwathFromBeamwidth(\n",
    "                            Altitude, \n",
    "                            Utils.deg2rad(AntennaOffset), \n",
    "                            aesaTxAnt.elevation_beamwidth(Wavelength))\n",
    "\n",
    "TX_gain = aesaTxAnt.gain(Wavelength)\n",
    "\n",
    "# --------------------------------------------------------\n",
    "# display the TX antenna characteristics in a table format\n",
    "df = pd.DataFrame (\n",
    "    {\n",
    "        \"Parameter\" : ['TX Length (Azimuth)', 'TX Height (Elevation)', \n",
    "                       'TX Azimuth Beamwidth', 'TX Elevation Beamwidth', \n",
    "                       'TX Gain', 'Ground Swath'],\n",
    "        \"Value\" : [aesaTxAnt.length(), aesaTxAnt.height(),\n",
    "                   Utils.rad2deg(aesaTxAnt.azimuth_beamwidth(Wavelength)), \n",
    "                   Utils.rad2deg(aesaTxAnt.elevation_beamwidth(Wavelength)),\n",
    "                   10*np.log10(aesaTxAnt.gain(Wavelength)), TX_gswath / 1000],\n",
    "        \"Unit\" : ['m', 'm', \n",
    "                  'deg', 'deg',\n",
    "                  'dBi', 'km']\n",
    "    }\n",
    ")\n",
    "titles = ['Parameter', 'Value', 'Unit']\n",
    "df.reindex(columns=titles) \\\n",
    "  .style.applymap(yellow, subset=pd.IndexSlice[0:1, :]) \\\n",
    "        .applymap(yellow, subset=pd.IndexSlice[3:4, :]) \\\n",
    "        .applymap(green, subset=pd.IndexSlice[5:5, :])"
   ]
  },
  {
   "cell_type": "markdown",
   "metadata": {},
   "source": [
    "### RX Antenna"
   ]
  },
  {
   "cell_type": "code",
   "execution_count": null,
   "metadata": {
    "code_folding": [
     0
    ]
   },
   "outputs": [],
   "source": [
    "# initialise the RX antenna object\n",
    "RX_efficiency         = Efficiency\n",
    "desiredElvElemSpacing = RxAntHeight / RxNumElElements\n",
    "desiredAzElemSpacing  = 0.5 * Wavelength\n",
    "RxNumAzElements = int(math.floor(AntLength / desiredAzElemSpacing))\n",
    "\n",
    "# initialise the RX object\n",
    "aesaRxAnt = PAA.PlanarArrayAntenna(\n",
    "                num_el_elems    = RxNumElElements, \n",
    "                num_az_elems    = RxNumAzElements, \n",
    "                el_elem_spacing = desiredElvElemSpacing, \n",
    "                az_elem_spacing = desiredAzElemSpacing, \n",
    "                efficiency      = RX_efficiency)\n",
    "\n",
    "RX_swath, RX_gswath =  SEM.SwathGroundSwathFromBeamwidth(\n",
    "                            Altitude, \n",
    "                            Utils.deg2rad(AntennaOffset), \n",
    "                            aesaRxAnt.elevation_beamwidth(Wavelength))\n",
    "\n",
    "RX_gain = aesaRxAnt.gain(Wavelength)\n",
    "    \n",
    "# --------------------------------------------------------\n",
    "# display the RX antenna characteristics in a table format\n",
    "df = pd.DataFrame (\n",
    "    {\n",
    "        \"Parameter\" : ['RX Length (Azimuth)', 'RX Height (Elevation)', \n",
    "                       'RX Azimuth Beamwidth', 'RX Elevation Beamwidth', \n",
    "                       'RX Gain', 'Ground Swath'],\n",
    "        \"Value\" : [aesaRxAnt.length(), aesaRxAnt.height(),\n",
    "                   Utils.rad2deg(aesaRxAnt.azimuth_beamwidth(Wavelength)), \n",
    "                   Utils.rad2deg(aesaRxAnt.elevation_beamwidth(Wavelength)),\n",
    "                   10*np.log10(aesaRxAnt.gain(Wavelength)), RX_gswath / 1000],\n",
    "        \"Unit\" : ['m', 'm', \n",
    "                  'deg', 'deg',\n",
    "                  'dBi', 'km']\n",
    "    }\n",
    ")\n",
    "titles = ['Parameter', 'Value', 'Unit']\n",
    "df.reindex(columns=titles) \\\n",
    "  .style.applymap(yellow, subset=pd.IndexSlice[0:1, :]) \\\n",
    "        .applymap(yellow, subset=pd.IndexSlice[3:4, :]) \\\n",
    "        .applymap(green, subset=pd.IndexSlice[5:5, :])"
   ]
  },
  {
   "cell_type": "code",
   "execution_count": null,
   "metadata": {},
   "outputs": [],
   "source": []
  },
  {
   "cell_type": "markdown",
   "metadata": {},
   "source": [
    "### NESZ"
   ]
  },
  {
   "cell_type": "code",
   "execution_count": null,
   "metadata": {
    "code_folding": [
     0
    ]
   },
   "outputs": [],
   "source": [
    "# Calculate the antenna patterns used for calculating the NESZ\n",
    "NumSamples = 100\n",
    "NumRxScanAngles = 31\n",
    "NumTxScanAngles = 1\n",
    "\n",
    "txAnt = aesaTxAnt\n",
    "rxAnt = aesaRxAnt\n",
    "\n",
    "RxAntPatterns, TxAntPatterns, \\\n",
    "rxtxAnglesRad, rxPeaks, \\\n",
    "RxAntPatMaxAngles, RxAntPatMaxValues \\\n",
    "    = NESZ.CalNeszAntennaPatterns_alt(\n",
    "        rxAnt, \n",
    "        txAnt, \n",
    "        Wavelength, \n",
    "        NumRxScanAngles, \n",
    "        NumTxScanAngles,\n",
    "        LookAngleRangeRad.min(), \n",
    "        LookAngleRangeRad.max(),\n",
    "        NumSamples)\n",
    "print(Utils.rad2deg(LookAngleRangeRad.min()), Utils.rad2deg(LookAngleRangeRad.max()))\n",
    "print(AntennaOffset)\n",
    "# -----------------------------------------------\n",
    "# Plot the antenna patterns\n",
    "if DEBUG_PRINT_PLOTS:\n",
    "    fig, ax1 = plt.subplots(figsize = (8,3))\n",
    "    for i in range(NumRxScanAngles * NumTxScanAngles):\n",
    "        if i == 0:\n",
    "            ax1.plot(Utils.rad2deg(rxtxAnglesRad[i] + Utils.deg2rad(AntennaOffset)), 10*np.log10(TxAntPatterns[i]), color=\"blue\", label=r\"TX Elevation Pattern\")\n",
    "            ax1.plot(Utils.rad2deg(rxtxAnglesRad[i] + Utils.deg2rad(AntennaOffset)), 10*np.log10(RxAntPatterns[i]), color=\"red\", linestyle=\"dashdot\", label=r\"RX Elevation Pattern\")\n",
    "        else:\n",
    "            ax1.plot(Utils.rad2deg(rxtxAnglesRad[i] + Utils.deg2rad(AntennaOffset)), 10*np.log10(TxAntPatterns[i]), color=\"blue\")\n",
    "            ax1.plot(Utils.rad2deg(rxtxAnglesRad[i] + Utils.deg2rad(AntennaOffset)), 10*np.log10(RxAntPatterns[i]), color=\"red\", linestyle=\"dashdot\")\n",
    "\n",
    "    ax1.plot(Utils.rad2deg(RxAntPatMaxAngles/1000  + Utils.deg2rad(AntennaOffset)), 10*np.log10(RxAntPatMaxValues), color=\"green\", label=r\"Effective RX Elevation Pattern\")\n",
    "\n",
    "    ax1.set_title(\"3dB Antenna pattern vs Look Angle\")\n",
    "    ax1.set_xlabel(r\"Look Angle (deg)\")\n",
    "    ax1.set_ylabel(r\"Antenna pattern (dB)\")\n",
    "    ax1.grid(linestyle='dotted')\n",
    "    ax1.legend()\n",
    "    plt.tight_layout()\n",
    "    plt.show()"
   ]
  },
  {
   "cell_type": "code",
   "execution_count": null,
   "metadata": {
    "code_folding": [
     0
    ]
   },
   "outputs": [],
   "source": [
    "# calculate the incidence angles and slant ranges over the antenna beam pattern\n",
    "IA_Arr, SR_Arr = NESZ.CalcAnglesAndSlantRanges(\n",
    "                    NumRxScanAngles * NumTxScanAngles, \n",
    "                    Altitude, \n",
    "                    rxtxAnglesRad, \n",
    "                    Utils.deg2rad(AntennaOffset))"
   ]
  },
  {
   "cell_type": "code",
   "execution_count": null,
   "metadata": {
    "code_folding": [
     0
    ]
   },
   "outputs": [],
   "source": [
    "# calculate the core angles subtended by the slant ranges, and from these the ground ranges\n",
    "GR_Arr = NESZ.CalcGroundRange(\n",
    "            NumRxScanAngles * NumTxScanAngles, \n",
    "            Altitude, \n",
    "            SR_Arr)"
   ]
  },
  {
   "cell_type": "code",
   "execution_count": null,
   "metadata": {
    "code_folding": [
     0
    ]
   },
   "outputs": [],
   "source": [
    "# Calulate the value of NESZ of the look angles\n",
    "NESZ_Arr, Nesz_max_incidence_angles, Nesz_max_values \\\n",
    "    = NESZ.CalcNesz(\n",
    "            NumRxScanAngles * NumTxScanAngles, \n",
    "            Altitude, \n",
    "            ChirpBandwidth, \n",
    "            IA_Arr, SR_Arr, \n",
    "            TxAntPatterns, RxAntPatterns, \n",
    "            Wavelength, TxPowerPeak, \n",
    "            PulseLen, Prf)\n",
    "    \n",
    "Nesz_dB_Arr = 10*np.log10(NESZ_Arr)"
   ]
  },
  {
   "cell_type": "code",
   "execution_count": null,
   "metadata": {
    "code_folding": [
     0
    ]
   },
   "outputs": [],
   "source": [
    "# plot the NESZ\n",
    "fig, ax1 = plt.subplots(figsize = (8, 4))\n",
    "# secondary axis for ground range values\n",
    "ax2 = ax1.twiny()\n",
    "# Add some extra space for the second axis at the bottom\n",
    "fig.subplots_adjust(bottom=0.2)\n",
    "\n",
    "# locations on the first axis, where the second axis values are calculated\n",
    "new_tick_locations = np.array([32, 34, 36, 38, 40])\n",
    "\n",
    "# convert between the one axis to the next\n",
    "def tick_function(altitude, x):\n",
    "    V = SEM.IncidenceAngleToGroundRange(altitude, Utils.deg2rad(x))\n",
    "    return [\"%.0f\" % z for z in V / 1000]\n",
    "\n",
    "# Move twinned axis ticks and label from top to bottom\n",
    "ax2.xaxis.set_ticks_position(\"bottom\")\n",
    "ax2.xaxis.set_label_position(\"bottom\")\n",
    "\n",
    "# Offset the twin axis below the host\n",
    "ax2.spines[\"bottom\"].set_position((\"axes\", -0.2))\n",
    "# sett the ticks values and locations on the second axis\n",
    "ax2.set_xticks(new_tick_locations)\n",
    "ax2.set_xticklabels(tick_function(Altitude, new_tick_locations))\n",
    "ax2.set_xlabel(\"Ground Range (km)\")\n",
    "\n",
    "for i in range(NumRxScanAngles * NumTxScanAngles):\n",
    "    if i == 0:\n",
    "        ax1.plot(Utils.rad2deg(IA_Arr[i]), Nesz_dB_Arr[i], color=\"red\", ls=\"--\", label=\"Calculated NESZ\")\n",
    "    else:\n",
    "        ax1.plot(Utils.rad2deg(IA_Arr[i]), Nesz_dB_Arr[i], color=\"red\", ls=\"--\")\n",
    "ax1.plot(Utils.rad2deg(Nesz_max_incidence_angles/1000), 10*np.log10(Nesz_max_values), color=\"green\", label=r\"Effective NESZ\")\n",
    "\n",
    "# plot required NESZ value +- 2dB\n",
    "ax1.axhline(ReqNesz, color=\"blue\", label=\"Required NESZ\")\n",
    "ax1.fill_between(ax1.get_xlim(), ReqNesz-2, ReqNesz+2, color=\"yellow\", alpha=0.3)\n",
    "\n",
    "# plot the desired incidence angles limits (based on PRF analysis)\n",
    "iaMax = Utils.rad2deg(SEM.IncidenceAngle(Altitude, highLa))\n",
    "iaMin = Utils.rad2deg(SEM.IncidenceAngle(Altitude, lowLa))\n",
    "print(np.rad2deg(lowLa))\n",
    "print(iaMin, iaMax)\n",
    "ax1.axvline(x=iaMin, linestyle=\"dashed\", color=\"blue\")\n",
    "ax1.axvline(x=iaMax, linestyle=\"dashed\", color=\"blue\")\n",
    "\n",
    "# ax1.set_title(\"NESZ vs Incidence Angle\")\n",
    "ax1.set_xlabel(r\"Incidence Angle (deg)\")\n",
    "ax1.set_ylabel(r\"NESZ (dB)\")\n",
    "ax1.grid(linestyle='dotted')\n",
    "ax1.legend(loc=4, framealpha=1.)\n",
    "ax1.set_ylim(-36, -22)\n",
    "ax1.margins(0)\n",
    "ax2.set_xlim(ax1.get_xlim())\n",
    "\n",
    "# plt.show()\n",
    "if SAVE_FIGURES:\n",
    "    if SAVE_FIGURE_FORMAT == \"SVG\":\n",
    "        plt.savefig('../figures/fig_06_aesa_verification_01_nesz.svg', format='svg', bbox_inches='tight')  \n",
    "    elif SAVE_FIGURE_FORMAT == \"PDF\":\n",
    "        plt.savefig('../figures/fig_06_aesa_verification_01_nesz.pdf', format='pdf', bbox_inches='tight')  \n",
    "    else:\n",
    "        plt.savefig('../figures/fig_06_aesa_verification_01_nesz.png', format='png', bbox_inches='tight', dpi=SAVE_FIGURE_DPI)  \n",
    "else:\n",
    "    plt.show()"
   ]
  },
  {
   "cell_type": "markdown",
   "metadata": {},
   "source": [
    "### AASR"
   ]
  },
  {
   "cell_type": "code",
   "execution_count": null,
   "metadata": {
    "code_folding": [
     0
    ]
   },
   "outputs": [],
   "source": [
    "# Calculate the antenna patterns for AASR calculationns\n",
    "if is_main_module():\n",
    "    NumAmbiguities = 10\n",
    "    FrequencySteps = 1000\n",
    "\n",
    "    # Get the processed Doppler bandwidth\n",
    "    DopplerBandwidth = [SEM.ProcessedDopplerBandwidth(SEM.PlatformVelocity(Altitude), ReqResolutionAz), ProcessedAzimuthBandwidth]\n",
    "    print(\"Processed Doppler Bandwidth: {:.2f} Hz\".format(DopplerBandwidth[0]))\n",
    "    print(\"Processed Doppler Bandwidth: {:.2f} Hz\".format(DopplerBandwidth[1]))\n",
    "\n",
    "    # DopplerFrequencies = np.linspace(-DopplerBandwidth/2, DopplerBandwidth/2, FrequencySteps)\n",
    "    DopplerFrequencies = np.linspace(start=-10000, stop=10000, num=1000)\n",
    "\n",
    "    AzimuthAngles = SEM.AzimuthAngleFromDoppler(DopplerFrequencies, Wavelength, SEM.PlatformVelocity(Altitude))\n",
    "\n",
    "    # calculate the TX/RX antenna patterns over the Doppler frequency bandwidth\n",
    "    txAzPat = txAnt.azimuth_field_pattern(Wavelength, AzimuthAngles, 0, 1, True)\n",
    "    rxAzPat = rxAnt.azimuth_field_pattern(Wavelength, AzimuthAngles, 0, 1, True)\n",
    "    \n",
    "    txAzPowerPat = txAnt.azimuth_power_pattern(Wavelength, AzimuthAngles, 0, 1, True)\n",
    "    rxAzPowerPat = rxAnt.azimuth_power_pattern(Wavelength, AzimuthAngles, 0, 1, True)"
   ]
  },
  {
   "cell_type": "code",
   "execution_count": null,
   "metadata": {
    "code_folding": [
     0
    ]
   },
   "outputs": [],
   "source": [
    "# Plot the antenna patterns\n",
    "if is_main_module():\n",
    "    fig, ax1 = plt.subplots(figsize = (12,3))\n",
    "    gainScale = txAnt.gain(Wavelength) / rxAnt.gain(Wavelength)\n",
    "    \n",
    "    ax1.plot(Utils.rad2deg(AzimuthAngles), 10*np.log10(txAzPowerPat * gainScale), color=\"blue\", label=r\"TX\")\n",
    "    ax1.plot(Utils.rad2deg(AzimuthAngles), 10*np.log10(rxAzPowerPat), color=\"green\", linestyle=\"dashed\", label=r\"RX\")\n",
    "\n",
    "    ax1.set_title(\"Noramlised 3dB Antenna azimuth power pattern vs Angle\")\n",
    "    ax1.set_xlabel(r\"Angle (deg)\")\n",
    "    ax1.set_ylabel(r\"Antenna pattern (dB)\")\n",
    "    ax1.grid(linestyle='dotted')\n",
    "    ax1.set_ylim(-50, 5)\n",
    "    ax1.set_xlim(-2, 2)\n",
    "    ax1.legend()\n",
    "    plt.tight_layout()\n",
    "    plt.show()"
   ]
  },
  {
   "cell_type": "code",
   "execution_count": null,
   "metadata": {
    "code_folding": [
     0
    ]
   },
   "outputs": [],
   "source": [
    "# Calculate the AASR values\n",
    "if is_main_module():\n",
    "    Aasr_Arr = [\n",
    "        AASR.Get_AASR(\n",
    "            DopplerBandwidth = DopplerBandwidth[0],\n",
    "            Frequencies = DopplerFrequencies,\n",
    "            NumAmbiguities = NumAmbiguities,\n",
    "            FreqSteps = FrequencySteps,\n",
    "            Prf = Prf,\n",
    "            TxAntennaPattern = txAzPat,\n",
    "            RxAntennaPattern = rxAzPat,\n",
    "            TxGain = txAnt.gain(Wavelength),\n",
    "            RxGain = rxAnt.gain(Wavelength) ),\n",
    "                \n",
    "            AASR.Get_AASR(\n",
    "                DopplerBandwidth = DopplerBandwidth[1],\n",
    "                Frequencies = DopplerFrequencies,\n",
    "                NumAmbiguities = NumAmbiguities,\n",
    "                FreqSteps = FrequencySteps,\n",
    "                Prf = Prf,\n",
    "                TxAntennaPattern = txAzPat,\n",
    "                RxAntennaPattern = rxAzPat,\n",
    "                TxGain = txAnt.gain(Wavelength),\n",
    "                RxGain = rxAnt.gain(Wavelength) ) ]\n",
    "\n",
    "    print(\"AASR = {:.2f} dB with Doppler bandwidth = {:.2f} Hz\".format(10*np.log10(Aasr_Arr[0]), DopplerBandwidth[0]))\n",
    "    print(\"AASR = {:.2f} dB with Doppler bandwidth = {:.2f} Hz\".format(10*np.log10(Aasr_Arr[1]), DopplerBandwidth[1]))\n",
    "    # create dummy gincidence angle array over which to plot the AASR data\n",
    "    SwathIaArr = np.linspace(np.asarray(IA_Arr[0]).min(), np.asarray(IA_Arr[len(IA_Arr)-1]).max(), 50)\n",
    "    \n",
    "    # create an array equal to the incidence angle array and fill with the AASR data    \n",
    "    Aasr_Arr_Full = [np.full((SwathIaArr.shape[0]), 10*np.log10(Aasr_Arr[0])),\n",
    "                     np.full((SwathIaArr.shape[0]), 10*np.log10(Aasr_Arr[1]))]"
   ]
  },
  {
   "cell_type": "code",
   "execution_count": null,
   "metadata": {
    "code_folding": [
     0
    ]
   },
   "outputs": [],
   "source": [
    "# plot the AASR vs ground swath\n",
    "if is_main_module():\n",
    "    fig, ax1 = plt.subplots(1,1, figsize = (8,4)) \n",
    "    \n",
    "    # secondary axis for ground range values\n",
    "    ax2 = ax1.twiny()\n",
    "    # Add some extra space for the second axis at the bottom\n",
    "    fig.subplots_adjust(bottom=0.2)\n",
    "\n",
    "    # locations on the first axis, where the second axis values are calculated\n",
    "    new_tick_locations = np.array([32, 34, 36, 38, 40])\n",
    "\n",
    "    # convert between the one axis to the next\n",
    "    def tick_function(altitude, x):\n",
    "        V = SEM.IncidenceAngleToGroundRange(altitude, Utils.deg2rad(x))\n",
    "        return [\"%.0f\" % z for z in V / 1000]\n",
    "\n",
    "    # Move twinned axis ticks and label from top to bottom\n",
    "    ax2.xaxis.set_ticks_position(\"bottom\")\n",
    "    ax2.xaxis.set_label_position(\"bottom\")\n",
    "\n",
    "    # Offset the twin axis below the host\n",
    "    ax2.spines[\"bottom\"].set_position((\"axes\", -0.2))\n",
    "    # sett the ticks values and locations on the second axis\n",
    "    ax2.set_xticks(new_tick_locations)\n",
    "    ax2.set_xticklabels(tick_function(Altitude, new_tick_locations))\n",
    "    ax2.set_xlabel(\"Ground Range (km)\")\n",
    "\n",
    "    ax1.plot(np.rad2deg(SwathIaArr), Aasr_Arr_Full[0], color='tab:red', label=r'Calculated AASR with $B_\\gamma$ = {:.2f} Hz'.format(DopplerBandwidth[0]))  \n",
    "    ax1.plot(np.rad2deg(SwathIaArr), Aasr_Arr_Full[1], color='tab:orange', label=r'Calculated AASR with $B_\\gamma$ = {:.2f} Hz'.format(DopplerBandwidth[1]))  \n",
    "    \n",
    "    ax1.axhline(y=ReqAasr, label=\"Required AASR\", color=\"blue\", linestyle=\"dashed\")\n",
    "    \n",
    "    # ax1.set_title('Azimuth-Ambiguity-to-Signal Ratio vs Slant Range')\n",
    "    ax1.set_ylabel(r'AASR (dB)')\n",
    "    ax1.set_xlabel(r'Incidence Angle (deg)')\n",
    "    plt.grid(linestyle='dotted')\n",
    "    plt.tight_layout()\n",
    "    ax1.set_ylim(-30, -17)\n",
    "    ax1.margins(0)\n",
    "    ax1.legend(framealpha=1.)\n",
    "    ax2.set_xlim(ax1.get_xlim())\n",
    "    \n",
    "    if SAVE_FIGURES:\n",
    "        if SAVE_FIGURE_FORMAT == \"SVG\":\n",
    "            plt.savefig('../figures/fig_08_aesa_verification_01_aasr.svg', format='svg', bbox_inches='tight')  \n",
    "        elif SAVE_FIGURE_FORMAT == \"PDF\":\n",
    "            plt.savefig('../figures/fig_08_aesa_verification_01_aasr.pdf', format='pdf', bbox_inches='tight')  \n",
    "        else:\n",
    "            plt.savefig('../figures/fig_08_aesa_verification_01_aasr.png', format='png', bbox_inches='tight', dpi=SAVE_FIGURE_DPI)  \n",
    "    else:\n",
    "        plt.show()"
   ]
  },
  {
   "cell_type": "markdown",
   "metadata": {},
   "source": [
    "### RASR"
   ]
  },
  {
   "cell_type": "code",
   "execution_count": null,
   "metadata": {
    "code_folding": [
     0
    ]
   },
   "outputs": [],
   "source": [
    "# Calculate the antenna patters and scan angles for the main RASR beams\n",
    "if is_main_module():\n",
    "    NumSamples = 100\n",
    "    NumRxScanAngles = 31\n",
    "    NumTxScanAngles = 1\n",
    "    NF = 5\n",
    "    NN = 3\n",
    "    prf = Prf\n",
    "\n",
    "    #------------------------------------------------------------\n",
    "    # firstly get the antenna patterns and anges for the main antenna beams\n",
    "    RxAntPatterns, TxAntPatterns, \\\n",
    "    rxtxAnglesRad, rxPeaks, \\\n",
    "    RxAntPatMaxAngles, RxAntPatMaxValues \\\n",
    "        = RASR.CalRasrMainAntennaPatterns_alt(\n",
    "            rxAnt, \n",
    "            txAnt, \n",
    "            Wavelength, \n",
    "            NumRxScanAngles, \n",
    "            NumTxScanAngles,\n",
    "            LookAngleRangeRad.min(), \n",
    "            LookAngleRangeRad.max(),\n",
    "            NumSamples)"
   ]
  },
  {
   "cell_type": "code",
   "execution_count": null,
   "metadata": {
    "code_folding": [
     0
    ]
   },
   "outputs": [],
   "source": [
    "# Plot the main antenna patterns\n",
    "if is_main_module():\n",
    "    fig, ax1 = plt.subplots(figsize = (8,3))\n",
    "    for i in range(NumRxScanAngles * NumTxScanAngles):\n",
    "        if i == 0:\n",
    "            ax1.plot(Utils.rad2deg(rxtxAnglesRad[i] + Utils.deg2rad(AntennaOffset)), 10*np.log10(TxAntPatterns[i]), color=\"red\", label=\"TX Elevation\")\n",
    "            ax1.plot(Utils.rad2deg(rxtxAnglesRad[i] + Utils.deg2rad(AntennaOffset)), 10*np.log10(RxAntPatterns[i]), color=\"black\", linestyle=\"dashed\", label=\"RX Elevation\")\n",
    "        else:\n",
    "            ax1.plot(Utils.rad2deg(rxtxAnglesRad[i] + Utils.deg2rad(AntennaOffset)), 10*np.log10(TxAntPatterns[i]), color=\"red\")\n",
    "            ax1.plot(Utils.rad2deg(rxtxAnglesRad[i] + Utils.deg2rad(AntennaOffset)), 10*np.log10(RxAntPatterns[i]), color=\"black\", linestyle=\"dashed\")\n",
    "\n",
    "    ax1.set_title(\"3dB Antenna pattern vs Angle\")\n",
    "    ax1.set_xlabel(r\"Angle (deg)\")\n",
    "    ax1.set_ylabel(r\"Antenna pattern (dB)\")\n",
    "    ax1.grid(linestyle='dotted')\n",
    "    plt.tight_layout()\n",
    "    ax1.legend()\n",
    "    plt.show()"
   ]
  },
  {
   "cell_type": "code",
   "execution_count": null,
   "metadata": {
    "code_folding": [
     0
    ]
   },
   "outputs": [],
   "source": [
    "# calculate the incidence angles and slant ranges over the antenna beam pattern\n",
    "if is_main_module():\n",
    "    IA_Arr, SR_Arr \\\n",
    "        = RASR.CalcAnglesAndSlantRanges(\n",
    "            NumRxScanAngles * NumTxScanAngles, \n",
    "            Altitude, \n",
    "            rxtxAnglesRad, \n",
    "            Utils.deg2rad(AntennaOffset))"
   ]
  },
  {
   "cell_type": "code",
   "execution_count": null,
   "metadata": {
    "code_folding": [
     0
    ]
   },
   "outputs": [],
   "source": [
    "# calculate the main RASR values for each slant range\n",
    "if is_main_module():\n",
    "    RasrMain = RASR.Get_RasrMain(\n",
    "        SlantRange = SR_Arr,\n",
    "        IncidenceAngle = IA_Arr,\n",
    "        TxAntennaPattern = np.asarray(TxAntPatterns), \n",
    "        RxAntennaPattern = np.asarray(RxAntPatterns) )\n",
    "    RasrMain_dB = 10*np.log10(RasrMain)"
   ]
  },
  {
   "cell_type": "code",
   "execution_count": null,
   "metadata": {
    "code_folding": [
     0
    ]
   },
   "outputs": [],
   "source": [
    "# Plot RASR Main values\n",
    "if is_main_module():\n",
    "    fig, ax1 = plt.subplots(figsize = (8, 3))\n",
    "    for i in range(NumRxScanAngles * NumTxScanAngles):\n",
    "        if i == 0:\n",
    "            ax1.plot(Utils.rad2deg(IA_Arr[i]), RasrMain_dB[i], color=\"red\", ls=\"--\", label=\"RASR\")\n",
    "        else:\n",
    "            ax1.plot(Utils.rad2deg(IA_Arr[i]), RasrMain_dB[i], color=\"red\", ls=\"--\")\n",
    "\n",
    "    ax1.axhline(ReqNesz, color=\"blue\", label=\"Required RASR\")\n",
    "    ax1.set_title(\"RASR vs Slant Range\")\n",
    "    ax1.set_xlabel(r\"Incidence Angle (deg)\")\n",
    "    ax1.set_ylabel(r\"RASR (dB)\")\n",
    "    ax1.grid(linestyle='dotted')\n",
    "    ax1.legend()\n",
    "    plt.tight_layout()\n",
    "    plt.show()"
   ]
  },
  {
   "cell_type": "code",
   "execution_count": null,
   "metadata": {
    "code_folding": [
     0
    ]
   },
   "outputs": [],
   "source": [
    "# Calculate the slant ranges, incidence angles, and RX/TX antenna patterns over the ambiguous PRFs\n",
    "if is_main_module():\n",
    "    TX_Amb_Arr, RX_Amb_Arr, SR_Amb_Arr, IA_Amb_Arr \\\n",
    "        = RASR.CalcAmbiguousAntennaPatterns_alt(\n",
    "            rxAnt, \n",
    "            txAnt, \n",
    "            NumRxScanAngles * NumTxScanAngles,\n",
    "            SR_Arr, \n",
    "            NN, NF, \n",
    "            Altitude, \n",
    "            AntennaOffset, \n",
    "            Wavelength, \n",
    "            prf)"
   ]
  },
  {
   "cell_type": "code",
   "execution_count": null,
   "metadata": {
    "code_folding": [
     0
    ]
   },
   "outputs": [],
   "source": [
    "# for each slant range and each ambiguity count, calculate the ambiguous value\n",
    "if is_main_module():\n",
    "    Rasr_Amb_Scan_Arr = []\n",
    "    for i in range(NumRxScanAngles * NumTxScanAngles):\n",
    "        Rasr_Amb_Arr = []\n",
    "        for j in range(SR_Amb_Arr[i].shape[0]):\n",
    "            Rasr_Amb_Arr.append(\n",
    "                RASR.RasrAmb(\n",
    "                    TX_Amb_Arr[i][j], \n",
    "                    RX_Amb_Arr[i][j], \n",
    "                    SR_Amb_Arr[i][j], \n",
    "                    IA_Amb_Arr[i][j]) )\n",
    "        Rasr_Amb_Scan_Arr.append(Rasr_Amb_Arr)\n",
    "    Rasr_Amb_Scan_Arr = np.asarray(Rasr_Amb_Scan_Arr)"
   ]
  },
  {
   "cell_type": "code",
   "execution_count": null,
   "metadata": {
    "code_folding": [
     0
    ]
   },
   "outputs": [],
   "source": [
    "# add all the ambiguities for a given slant range together,\n",
    "# this is the total ambiguity singal for a given slant range\n",
    "if is_main_module():\n",
    "    Rasr_Amb_sum = []\n",
    "\n",
    "    for i in range(NumRxScanAngles * NumTxScanAngles):\n",
    "        Rasr_Amb_sum.append(np.nansum(Rasr_Amb_Scan_Arr[i], axis=0))\n",
    "            \n",
    "    Rasr_Amb_sum = np.asarray(Rasr_Amb_sum)\n",
    "\n",
    "    # ----------------------------------------------------------\n",
    "    # calculate the Total RASR value for each slant range\n",
    "    RASR_Total_Arr = [] = []\n",
    "    for i in range(NumRxScanAngles * NumTxScanAngles):\n",
    "        RASR_Arr = []\n",
    "        for j in range(SR_Arr[i].shape[0]):\n",
    "            RASR_Arr.append(RasrMain[i][j] * Rasr_Amb_sum[i][j])\n",
    "        RASR_Total_Arr.append(RASR_Arr)\n",
    "\n",
    "    RASR_Total_Arr = np.asarray(RASR_Total_Arr)\n",
    "    RASR_Arr_dB = 10*np.log10(RASR_Total_Arr)"
   ]
  },
  {
   "cell_type": "code",
   "execution_count": null,
   "metadata": {
    "code_folding": [
     0
    ]
   },
   "outputs": [],
   "source": [
    "# Plot RASR values vs ground\n",
    "if is_main_module():\n",
    "    fig, ax1 = plt.subplots(figsize = (8, 4))\n",
    "\n",
    "    # secondary axis for ground range values\n",
    "    ax2 = ax1.twiny()\n",
    "    # Add some extra space for the second axis at the bottom\n",
    "    fig.subplots_adjust(bottom=0.2)\n",
    "\n",
    "    # locations on the first axis, where the second axis values are calculated\n",
    "    new_tick_locations = np.array([32, 34, 36, 38, 40])\n",
    "\n",
    "    # convert between the one axis to the next\n",
    "    def tick_function(altitude, x):\n",
    "        V = SEM.IncidenceAngleToGroundRange(altitude, Utils.deg2rad(x))\n",
    "        return [\"%.0f\" % z for z in V / 1000]\n",
    "\n",
    "    # Move twinned axis ticks and label from top to bottom\n",
    "    ax2.xaxis.set_ticks_position(\"bottom\")\n",
    "    ax2.xaxis.set_label_position(\"bottom\")\n",
    "\n",
    "    # Offset the twin axis below the host\n",
    "    ax2.spines[\"bottom\"].set_position((\"axes\", -0.2))\n",
    "    # sett the ticks values and locations on the second axis\n",
    "    ax2.set_xticks(new_tick_locations)\n",
    "    ax2.set_xticklabels(tick_function(Altitude, new_tick_locations))\n",
    "    ax2.set_xlabel(\"Ground Range (km)\")\n",
    "\n",
    "    for i in range(NumRxScanAngles * NumTxScanAngles):\n",
    "        if i == 0:\n",
    "            ax1.plot(Utils.rad2deg(IA_Arr[i]), RASR_Arr_dB[i], color=\"red\", ls=\"--\", label=\"RASR\")\n",
    "        else:\n",
    "            ax1.plot(Utils.rad2deg(IA_Arr[i]), RASR_Arr_dB[i], color=\"red\", ls=\"--\")\n",
    "\n",
    "    ax1.axhline(ReqRasr, color=\"blue\", label=\"Required RASR\")\n",
    "    \n",
    "    ax1.axvline(x=Utils.rad2deg(lowIa), color=\"blue\", linestyle=\"dashed\")\n",
    "    ax1.axvline(x=Utils.rad2deg(highIa), color=\"blue\", linestyle=\"dashed\")\n",
    "\n",
    "    # ax1.set_title(\"RASR vs Slant Range\")\n",
    "    ax1.set_xlabel(r\"Incidence Angle (deg)\")\n",
    "    ax1.set_ylabel(r\"RASR (dB)\")\n",
    "    ax1.grid(linestyle='dotted')\n",
    "    ax1.legend(framealpha=1.)\n",
    "    ax1.set_ylim(-50, -17)\n",
    "    ax1.margins(0)\n",
    "    ax2.set_xlim(ax1.get_xlim())\n",
    "    \n",
    "    if SAVE_FIGURES:\n",
    "        if SAVE_FIGURE_FORMAT == \"SVG\":\n",
    "            plt.savefig('../figures/fig_09_aesa_verification_01_rasr.svg', format='svg', bbox_inches='tight')  \n",
    "        elif SAVE_FIGURE_FORMAT == \"PDF\":\n",
    "            plt.savefig('../figures/fig_09_aesa_verification_01_rasr.pdf', format='pdf', bbox_inches='tight')  \n",
    "        else:\n",
    "            plt.savefig('../figures/fig_09_aesa_verification_01_rasr.png', format='png', bbox_inches='tight', dpi=SAVE_FIGURE_DPI)  \n",
    "    else:\n",
    "        plt.show()"
   ]
  },
  {
   "cell_type": "code",
   "execution_count": null,
   "metadata": {},
   "outputs": [],
   "source": []
  },
  {
   "cell_type": "code",
   "execution_count": null,
   "metadata": {},
   "outputs": [],
   "source": []
  }
 ],
 "metadata": {
  "kernelspec": {
   "display_name": "Python 3",
   "language": "python",
   "name": "python3"
  },
  "language_info": {
   "codemirror_mode": {
    "name": "ipython",
    "version": 3
   },
   "file_extension": ".py",
   "mimetype": "text/x-python",
   "name": "python",
   "nbconvert_exporter": "python",
   "pygments_lexer": "ipython3",
   "version": "3.6.7"
  },
  "toc": {
   "base_numbering": 1,
   "nav_menu": {},
   "number_sections": true,
   "sideBar": true,
   "skip_h1_title": false,
   "title_cell": "Table of Contents",
   "title_sidebar": "Contents",
   "toc_cell": false,
   "toc_position": {
    "height": "calc(100% - 180px)",
    "left": "10px",
    "top": "150px",
    "width": "338.993px"
   },
   "toc_section_display": true,
   "toc_window_display": true
  }
 },
 "nbformat": 4,
 "nbformat_minor": 2
}
